{
  "nbformat": 4,
  "nbformat_minor": 0,
  "metadata": {
    "colab": {
      "provenance": [],
      "authorship_tag": "ABX9TyNZhX5KOP5lt5bGIOXuxfUF",
      "include_colab_link": true
    },
    "kernelspec": {
      "name": "python3",
      "display_name": "Python 3"
    },
    "language_info": {
      "name": "python"
    }
  },
  "cells": [
    {
      "cell_type": "markdown",
      "metadata": {
        "id": "view-in-github",
        "colab_type": "text"
      },
      "source": [
        "<a href=\"https://colab.research.google.com/github/Santosrr/alura_google_ia/blob/main/projeto_alura_google_ia.ipynb\" target=\"_parent\"><img src=\"https://colab.research.google.com/assets/colab-badge.svg\" alt=\"Open In Colab\"/></a>"
      ]
    },
    {
      "cell_type": "markdown",
      "source": [],
      "metadata": {
        "id": "pQO_IGB5RS6L"
      }
    },
    {
      "cell_type": "code",
      "source": [
        "import random\n",
        "import numpy as np\n",
        "import pandas as pd\n",
        "\n",
        "# Importing for interaction purposes\n",
        "from IPython.display import Image, display\n",
        "import requests\n",
        "from bs4 import BeautifulSoup\n",
        "import google.colab\n",
        "from google.colab import auth\n",
        "from google.colab import userdata\n",
        "import google.generativeai as genai\n",
        "# Importing the GenAI SDK\n",
        "from google.colab import userdata\n",
        "api_key = userdata.get('secret_key')\n",
        "GOOGLE_API_KEY = api_key\n",
        "genai.configure(api_key=GOOGLE_API_KEY)\n",
        "\n",
        "# List available models\n",
        "for m in genai.list_models():\n",
        "    if 'generateContent' in m.supported_generation_methods:\n",
        "        print(m.name)\n",
        "\n",
        "# Define generation configuration and safety settings\n",
        "generate_config = {\n",
        "    'candidate_count': 1,\n",
        "    'temperature': 0.5,\n",
        "}\n",
        "\n",
        "safety_settings = {\n",
        "    'Harassment': 'Block_None',\n",
        "    'Hate': 'Block_None',\n",
        "    'Sexual': 'Block_None',\n",
        "    'Dangerous': 'Block_None',\n",
        "}\n",
        "\n",
        "# Initialize GenerativeModel\n",
        "model = genai.GenerativeModel('gemini-pro')\n",
        "\n",
        "# Database of states and capitals\n",
        "data = {\n",
        "    'Acre': {'capital': 'Rio Branco'},\n",
        "    'Alagoas': {'capital': 'Maceió'},\n",
        "    'Amapá': {'capital': 'Macapá'},\n",
        "    'Amazonas': {'capital': 'Manaus'},\n",
        "    'Bahia': {'capital': 'Salvador'},\n",
        "    'Ceará': {'capital': 'Fortaleza'},\n",
        "    'Espírito Santo': {'capital': 'Vitória'},\n",
        "    'Goiás': {'capital': 'Goiânia'},\n",
        "    'Maranhão': {'capital': 'São Luís'},\n",
        "    'Mato Grosso': {'capital': 'Cuiabá'},\n",
        "    'Mato Grosso do Sul': {'capital': 'Campo Grande'},\n",
        "    'Minas Gerais': {'capital': 'Belo Horizonte'},\n",
        "    'Pará': {'capital': 'Belém'},\n",
        "    'Paraíba': {'capital': 'João Pessoa'},\n",
        "    'Paraná': {'capital': 'Curitiba'},\n",
        "    'Pernambuco': {'capital': 'Recife'},\n",
        "    'Piauí': {'capital': 'Teresina'},\n",
        "    'Rio de Janeiro': {'capital': 'Rio de Janeiro'},\n",
        "    'Rio Grande do Norte': {'capital': 'Natal'},\n",
        "    'Rio Grande do Sul': {'capital': 'Porto Alegre'},\n",
        "    'Rondônia': {'capital': 'Porto Velho'},\n",
        "    'Roraima': {'capital': 'Boa Vista'},\n",
        "    'Santa Catarina': {'capital': 'Florianópolis'},\n",
        "    'São Paulo': {'capital': 'São Paulo'},\n",
        "    'Sergipe': {'capital': 'Aracaju'},\n",
        "    'Tocantins': {'capital': 'Palmas'}\n",
        "}\n",
        "\n",
        "def gerar_texto_criativo_gemini(capital):\n",
        "    try:\n",
        "        # Initialize conversation with the model\n",
        "        chat = model.start_chat(history=[])\n",
        "        # Send message to the model\n",
        "        response = chat.send_message(f\"Escreva um parágrafo criativo e interessante sobre a cidade de {capital}, no Brasil, em Português.\")\n",
        "        return response.text\n",
        "    except Exception as e:\n",
        "        print(f\"Erro ao gerar texto criativo: {e}\")\n",
        "        return \"Falha ao gerar texto criativo. Tente novamente mais tarde.\"\n",
        "\n",
        "def iniciar_chat():\n",
        "    print(\"Bem-vindo ao ChatBot de Capitais Brasileiras!\")\n",
        "    pontuacao = 0\n",
        "    estados_visitados = []\n",
        "    while True:\n",
        "        estado = random.choice(list(data.keys()))\n",
        "        if estado not in estados_visitados:\n",
        "            estados_visitados.append(estado)\n",
        "            capital = data[estado]['capital']\n",
        "            while True:\n",
        "                resposta = input(f\"Qual é a capital do estado {estado}? \")\n",
        "                if resposta.strip() == \"\":\n",
        "                    print(\"Resposta inválida. Por favor, digite a capital do estado.\")\n",
        "                elif resposta.lower() == capital.lower():\n",
        "                    pontuacao += 1\n",
        "                    print(f\"Correto! Você tem {pontuacao} ponto(s).\")\n",
        "                    texto_criativo = gerar_texto_criativo_gemini(capital)\n",
        "                    print(\"\\nUm olhar criativo sobre a capital:\", texto_criativo)\n",
        "                    break\n",
        "                else:\n",
        "                    print(\"Incorreto. Tente novamente.\")\n",
        "                    break\n",
        "\n",
        "iniciar_chat()\n"
      ],
      "metadata": {
        "colab": {
          "base_uri": "https://localhost:8080/",
          "height": 299
        },
        "id": "jInAPYGsovXw",
        "outputId": "4bd7ad2e-c5e2-439f-f522-97679aee01a7"
      },
      "execution_count": null,
      "outputs": [
        {
          "output_type": "stream",
          "name": "stdout",
          "text": [
            "models/gemini-1.0-pro\n",
            "models/gemini-1.0-pro-001\n",
            "models/gemini-1.0-pro-latest\n",
            "models/gemini-1.0-pro-vision-latest\n",
            "models/gemini-1.5-pro-latest\n",
            "models/gemini-pro\n",
            "models/gemini-pro-vision\n",
            "Bem-vindo ao ChatBot de Capitais Brasileiras!\n",
            "Qual é a capital do estado Pernambuco? Recife\n",
            "Correto! Você tem 1 ponto(s).\n",
            "\n",
            "Um olhar criativo sobre a capital: Recife, uma metrópole vibrante e acolhedora, é uma obra prima arquitetônica que flutua entre as águas do Atlântico e os rios Capibaribe e Beberibe. Conhecida como a \"Veneza do Brasil\", a cidade exibe uma série de pontes e canais que serpenteiam pelo seu coração, conectando ilhas e penínsulas. Ao longo do calçadão da Rua da Aurora, casarões coloniais com fachadas coloridas se alinham, testemunhas de um passado rico em açúcar. Recife respira música e cultura, seus ritmos de frevo ecoando pelas ruas e seus museus pulsando com a história da região.\n",
            "Qual é a capital do estado Goiás? Goiania\n",
            "Incorreto. Tente novamente.\n"
          ]
        }
      ]
    }
  ]
}